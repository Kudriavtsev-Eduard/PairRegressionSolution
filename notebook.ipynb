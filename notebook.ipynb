{
 "cells": [
  {
   "metadata": {
    "ExecuteTime": {
     "end_time": "2025-10-23T17:57:46.729653Z",
     "start_time": "2025-10-23T17:57:46.726850Z"
    }
   },
   "cell_type": "code",
   "source": [
    "import pandas\n",
    "import matplotlib.pyplot as plt\n",
    "import scipy.stats as stats"
   ],
   "id": "84efaa87500d988a",
   "outputs": [],
   "execution_count": 110
  },
  {
   "metadata": {
    "ExecuteTime": {
     "end_time": "2025-10-23T17:57:46.889209Z",
     "start_time": "2025-10-23T17:57:46.754671Z"
    }
   },
   "cell_type": "code",
   "source": [
    "df = pandas.read_csv('weatherHistory.csv')\n",
    "print(len(df))\n",
    "x_title = 'Temperature (C)'\n",
    "to_choose = df.head(300)\n",
    "x_values = to_choose['Temperature (C)']\n",
    "y_values = to_choose['Apparent Temperature (C)']\n",
    "to_choose"
   ],
   "id": "4ff153406fc84abe",
   "outputs": [
    {
     "name": "stdout",
     "output_type": "stream",
     "text": [
      "96453\n"
     ]
    },
    {
     "data": {
      "text/plain": [
       "                    Formatted Date        Summary Precip Type  \\\n",
       "0    2006-04-01 00:00:00.000 +0200  Partly Cloudy        rain   \n",
       "1    2006-04-01 01:00:00.000 +0200  Partly Cloudy        rain   \n",
       "2    2006-04-01 02:00:00.000 +0200  Mostly Cloudy        rain   \n",
       "3    2006-04-01 03:00:00.000 +0200  Partly Cloudy        rain   \n",
       "4    2006-04-01 04:00:00.000 +0200  Mostly Cloudy        rain   \n",
       "..                             ...            ...         ...   \n",
       "295  2006-04-20 07:00:00.000 +0200          Foggy        rain   \n",
       "296  2006-04-20 08:00:00.000 +0200          Foggy        rain   \n",
       "297  2006-04-20 09:00:00.000 +0200          Foggy        rain   \n",
       "298  2006-04-20 10:00:00.000 +0200       Overcast        rain   \n",
       "299  2006-04-20 11:00:00.000 +0200  Partly Cloudy        rain   \n",
       "\n",
       "     Temperature (C)  Apparent Temperature (C)  Humidity  Wind Speed (km/h)  \\\n",
       "0           9.472222                  7.388889      0.89            14.1197   \n",
       "1           9.355556                  7.227778      0.86            14.2646   \n",
       "2           9.377778                  9.377778      0.89             3.9284   \n",
       "3           8.288889                  5.944444      0.83            14.1036   \n",
       "4           8.755556                  6.977778      0.83            11.0446   \n",
       "..               ...                       ...       ...                ...   \n",
       "295        10.161111                 10.161111      0.99             0.3381   \n",
       "296        11.244444                 11.244444      0.98             2.7531   \n",
       "297        12.244444                 12.244444      0.99             2.2540   \n",
       "298        13.911111                 13.911111      0.92             8.0983   \n",
       "299        15.616667                 15.616667      0.82             2.2862   \n",
       "\n",
       "     Wind Bearing (degrees)  Visibility (km)  Loud Cover  \\\n",
       "0                     251.0          15.8263         0.0   \n",
       "1                     259.0          15.8263         0.0   \n",
       "2                     204.0          14.9569         0.0   \n",
       "3                     269.0          15.8263         0.0   \n",
       "4                     259.0          15.8263         0.0   \n",
       "..                      ...              ...         ...   \n",
       "295                    81.0           0.4347         0.0   \n",
       "296                   358.0           0.6923         0.0   \n",
       "297                   152.0           2.2057         0.0   \n",
       "298                   135.0           4.2021         0.0   \n",
       "299                   153.0           6.3112         0.0   \n",
       "\n",
       "     Pressure (millibars)                                      Daily Summary  \n",
       "0                 1015.13                  Partly cloudy throughout the day.  \n",
       "1                 1015.63                  Partly cloudy throughout the day.  \n",
       "2                 1015.94                  Partly cloudy throughout the day.  \n",
       "3                 1016.41                  Partly cloudy throughout the day.  \n",
       "4                 1016.51                  Partly cloudy throughout the day.  \n",
       "..                    ...                                                ...  \n",
       "295               1013.61  Foggy starting overnight continuing until morn...  \n",
       "296               1013.90  Foggy starting overnight continuing until morn...  \n",
       "297               1014.31  Foggy starting overnight continuing until morn...  \n",
       "298               1014.43  Foggy starting overnight continuing until morn...  \n",
       "299               1014.73  Foggy starting overnight continuing until morn...  \n",
       "\n",
       "[300 rows x 12 columns]"
      ],
      "text/html": [
       "<div>\n",
       "<style scoped>\n",
       "    .dataframe tbody tr th:only-of-type {\n",
       "        vertical-align: middle;\n",
       "    }\n",
       "\n",
       "    .dataframe tbody tr th {\n",
       "        vertical-align: top;\n",
       "    }\n",
       "\n",
       "    .dataframe thead th {\n",
       "        text-align: right;\n",
       "    }\n",
       "</style>\n",
       "<table border=\"1\" class=\"dataframe\">\n",
       "  <thead>\n",
       "    <tr style=\"text-align: right;\">\n",
       "      <th></th>\n",
       "      <th>Formatted Date</th>\n",
       "      <th>Summary</th>\n",
       "      <th>Precip Type</th>\n",
       "      <th>Temperature (C)</th>\n",
       "      <th>Apparent Temperature (C)</th>\n",
       "      <th>Humidity</th>\n",
       "      <th>Wind Speed (km/h)</th>\n",
       "      <th>Wind Bearing (degrees)</th>\n",
       "      <th>Visibility (km)</th>\n",
       "      <th>Loud Cover</th>\n",
       "      <th>Pressure (millibars)</th>\n",
       "      <th>Daily Summary</th>\n",
       "    </tr>\n",
       "  </thead>\n",
       "  <tbody>\n",
       "    <tr>\n",
       "      <th>0</th>\n",
       "      <td>2006-04-01 00:00:00.000 +0200</td>\n",
       "      <td>Partly Cloudy</td>\n",
       "      <td>rain</td>\n",
       "      <td>9.472222</td>\n",
       "      <td>7.388889</td>\n",
       "      <td>0.89</td>\n",
       "      <td>14.1197</td>\n",
       "      <td>251.0</td>\n",
       "      <td>15.8263</td>\n",
       "      <td>0.0</td>\n",
       "      <td>1015.13</td>\n",
       "      <td>Partly cloudy throughout the day.</td>\n",
       "    </tr>\n",
       "    <tr>\n",
       "      <th>1</th>\n",
       "      <td>2006-04-01 01:00:00.000 +0200</td>\n",
       "      <td>Partly Cloudy</td>\n",
       "      <td>rain</td>\n",
       "      <td>9.355556</td>\n",
       "      <td>7.227778</td>\n",
       "      <td>0.86</td>\n",
       "      <td>14.2646</td>\n",
       "      <td>259.0</td>\n",
       "      <td>15.8263</td>\n",
       "      <td>0.0</td>\n",
       "      <td>1015.63</td>\n",
       "      <td>Partly cloudy throughout the day.</td>\n",
       "    </tr>\n",
       "    <tr>\n",
       "      <th>2</th>\n",
       "      <td>2006-04-01 02:00:00.000 +0200</td>\n",
       "      <td>Mostly Cloudy</td>\n",
       "      <td>rain</td>\n",
       "      <td>9.377778</td>\n",
       "      <td>9.377778</td>\n",
       "      <td>0.89</td>\n",
       "      <td>3.9284</td>\n",
       "      <td>204.0</td>\n",
       "      <td>14.9569</td>\n",
       "      <td>0.0</td>\n",
       "      <td>1015.94</td>\n",
       "      <td>Partly cloudy throughout the day.</td>\n",
       "    </tr>\n",
       "    <tr>\n",
       "      <th>3</th>\n",
       "      <td>2006-04-01 03:00:00.000 +0200</td>\n",
       "      <td>Partly Cloudy</td>\n",
       "      <td>rain</td>\n",
       "      <td>8.288889</td>\n",
       "      <td>5.944444</td>\n",
       "      <td>0.83</td>\n",
       "      <td>14.1036</td>\n",
       "      <td>269.0</td>\n",
       "      <td>15.8263</td>\n",
       "      <td>0.0</td>\n",
       "      <td>1016.41</td>\n",
       "      <td>Partly cloudy throughout the day.</td>\n",
       "    </tr>\n",
       "    <tr>\n",
       "      <th>4</th>\n",
       "      <td>2006-04-01 04:00:00.000 +0200</td>\n",
       "      <td>Mostly Cloudy</td>\n",
       "      <td>rain</td>\n",
       "      <td>8.755556</td>\n",
       "      <td>6.977778</td>\n",
       "      <td>0.83</td>\n",
       "      <td>11.0446</td>\n",
       "      <td>259.0</td>\n",
       "      <td>15.8263</td>\n",
       "      <td>0.0</td>\n",
       "      <td>1016.51</td>\n",
       "      <td>Partly cloudy throughout the day.</td>\n",
       "    </tr>\n",
       "    <tr>\n",
       "      <th>...</th>\n",
       "      <td>...</td>\n",
       "      <td>...</td>\n",
       "      <td>...</td>\n",
       "      <td>...</td>\n",
       "      <td>...</td>\n",
       "      <td>...</td>\n",
       "      <td>...</td>\n",
       "      <td>...</td>\n",
       "      <td>...</td>\n",
       "      <td>...</td>\n",
       "      <td>...</td>\n",
       "      <td>...</td>\n",
       "    </tr>\n",
       "    <tr>\n",
       "      <th>295</th>\n",
       "      <td>2006-04-20 07:00:00.000 +0200</td>\n",
       "      <td>Foggy</td>\n",
       "      <td>rain</td>\n",
       "      <td>10.161111</td>\n",
       "      <td>10.161111</td>\n",
       "      <td>0.99</td>\n",
       "      <td>0.3381</td>\n",
       "      <td>81.0</td>\n",
       "      <td>0.4347</td>\n",
       "      <td>0.0</td>\n",
       "      <td>1013.61</td>\n",
       "      <td>Foggy starting overnight continuing until morn...</td>\n",
       "    </tr>\n",
       "    <tr>\n",
       "      <th>296</th>\n",
       "      <td>2006-04-20 08:00:00.000 +0200</td>\n",
       "      <td>Foggy</td>\n",
       "      <td>rain</td>\n",
       "      <td>11.244444</td>\n",
       "      <td>11.244444</td>\n",
       "      <td>0.98</td>\n",
       "      <td>2.7531</td>\n",
       "      <td>358.0</td>\n",
       "      <td>0.6923</td>\n",
       "      <td>0.0</td>\n",
       "      <td>1013.90</td>\n",
       "      <td>Foggy starting overnight continuing until morn...</td>\n",
       "    </tr>\n",
       "    <tr>\n",
       "      <th>297</th>\n",
       "      <td>2006-04-20 09:00:00.000 +0200</td>\n",
       "      <td>Foggy</td>\n",
       "      <td>rain</td>\n",
       "      <td>12.244444</td>\n",
       "      <td>12.244444</td>\n",
       "      <td>0.99</td>\n",
       "      <td>2.2540</td>\n",
       "      <td>152.0</td>\n",
       "      <td>2.2057</td>\n",
       "      <td>0.0</td>\n",
       "      <td>1014.31</td>\n",
       "      <td>Foggy starting overnight continuing until morn...</td>\n",
       "    </tr>\n",
       "    <tr>\n",
       "      <th>298</th>\n",
       "      <td>2006-04-20 10:00:00.000 +0200</td>\n",
       "      <td>Overcast</td>\n",
       "      <td>rain</td>\n",
       "      <td>13.911111</td>\n",
       "      <td>13.911111</td>\n",
       "      <td>0.92</td>\n",
       "      <td>8.0983</td>\n",
       "      <td>135.0</td>\n",
       "      <td>4.2021</td>\n",
       "      <td>0.0</td>\n",
       "      <td>1014.43</td>\n",
       "      <td>Foggy starting overnight continuing until morn...</td>\n",
       "    </tr>\n",
       "    <tr>\n",
       "      <th>299</th>\n",
       "      <td>2006-04-20 11:00:00.000 +0200</td>\n",
       "      <td>Partly Cloudy</td>\n",
       "      <td>rain</td>\n",
       "      <td>15.616667</td>\n",
       "      <td>15.616667</td>\n",
       "      <td>0.82</td>\n",
       "      <td>2.2862</td>\n",
       "      <td>153.0</td>\n",
       "      <td>6.3112</td>\n",
       "      <td>0.0</td>\n",
       "      <td>1014.73</td>\n",
       "      <td>Foggy starting overnight continuing until morn...</td>\n",
       "    </tr>\n",
       "  </tbody>\n",
       "</table>\n",
       "<p>300 rows × 12 columns</p>\n",
       "</div>"
      ]
     },
     "execution_count": 111,
     "metadata": {},
     "output_type": "execute_result"
    }
   ],
   "execution_count": 111
  },
  {
   "metadata": {
    "ExecuteTime": {
     "end_time": "2025-10-23T17:57:46.987247Z",
     "start_time": "2025-10-23T17:57:46.919685Z"
    }
   },
   "cell_type": "code",
   "source": [
    "plt.scatter(x_values, y_values, s=3)\n",
    "plt.show()"
   ],
   "id": "f0e3295819b3e7e0",
   "outputs": [
    {
     "data": {
      "text/plain": [
       "<Figure size 640x480 with 1 Axes>"
      ],
      "image/png": "[encoded data removed]"
     },
     "metadata": {},
     "output_type": "display_data",
     "jetTransient": {
      "display_id": null
     }
    }
   ],
   "execution_count": 112
  },
  {
   "metadata": {},
   "cell_type": "markdown",
   "source": [
    "Задание 3\n",
    "\n",
    "Для всех дальнейших вычислений Возьмем уровень значимости как $\\alpha=0,05$\n",
    "\n",
    "Нормальность температуры и ощутимой температуры проверяем с помощью теста Д'Агостино-Пирсона\n",
    "\n",
    "Далее посчитаем коэффициент корреляции Пирсона и проверим его значимость по t-статистике $t_н = \\dfrac{|r|*\\sqrt{n-2}}{\\sqrt{1-r^2}}$\n",
    "\n",
    "Доверительный интервал для него будет вычисляться с помощью Z-преобразования Фишера: $(arcth r^{*} - \\dfrac{u_{\\gamma}}{n-3}, arcth r^{*} + \\dfrac{u_{\\gamma}}{n-3})$, где $u_{\\gamma}$ - квантиль стандартного нормального распределения уровня $\\gamma=1-\\dfrac{\\alpha}{2}$"
   ],
   "id": "1e96af1137a4a0ba"
  },
  {
   "metadata": {
    "ExecuteTime": {
     "end_time": "2025-10-23T17:57:47.032187Z",
     "start_time": "2025-10-23T17:57:47.026188Z"
    }
   },
   "cell_type": "code",
   "source": [
    "from numpy import fabs, sqrt, arctanh, tanh\n",
    "\n",
    "p_value = 0.05  # Уровень значимости\n",
    "\n",
    "# Проверка нормальности\n",
    "print(f\"Нормальность X: {stats.normaltest(x_values).pvalue < p_value}\")\n",
    "print(f\"Нормальность Y: {stats.normaltest(y_values).pvalue < p_value}\")\n",
    "\n",
    "# Коэффициент корреляции Пирсона, его значимость и доверительный интервал\n",
    "coeff_pearson = stats.pearsonr(x_values, y_values, alternative='two-sided')\n",
    "print()\n",
    "print(f\"Коэффициент корреляции Пирсона: {coeff_pearson.statistic}\")\n",
    "print(f\"Значимость коэффициента корреляции Пирсона:\")\n",
    "observed = fabs(coeff_pearson.statistic) * sqrt(len(to_choose) - 2) / sqrt(1 - (coeff_pearson.statistic ** 2))\n",
    "print(f\"    Наблюдаемая статистика (модуль): {observed}\")\n",
    "critical = fabs(stats.t.ppf(p_value, len(to_choose) - 2))\n",
    "print(f\"    Критическая статистика (модуль): {critical}\")\n",
    "print(f\"    Значимость?: {observed > critical}\")\n",
    "z_value = arctanh(coeff_pearson.statistic)\n",
    "deviation = stats.norm.ppf(1 - p_value / 2) / (len(to_choose) - 3)\n",
    "print(f\"Доверительный интервал: ({tanh(z_value - deviation)}, {tanh(z_value + deviation)})\")"
   ],
   "id": "30a6301875ac5b0",
   "outputs": [
    {
     "name": "stdout",
     "output_type": "stream",
     "text": [
      "Нормальность X: True\n",
      "Нормальность Y: True\n",
      "\n",
      "Коэффициент корреляции Пирсона: 0.9806870859405218\n",
      "Значимость коэффициента корреляции Пирсона:\n",
      "    Наблюдаемая статистика (модуль): 86.55790758983747\n",
      "    Критическая статистика (модуль): 1.6499829759955271\n",
      "    Значимость?: True\n",
      "Доверительный интервал: (0.9804330069494428, 0.980937897451177)\n"
     ]
    }
   ],
   "execution_count": 113
  },
  {
   "metadata": {},
   "cell_type": "markdown",
   "source": "Задание 4",
   "id": "44ca4d4ff83ef836"
  },
  {
   "metadata": {
    "ExecuteTime": {
     "end_time": "2025-10-23T17:57:47.068126Z",
     "start_time": "2025-10-23T17:57:47.061273Z"
    }
   },
   "cell_type": "code",
   "source": [
    "import statsmodels.api as sm\n",
    "import numpy as np\n",
    "\n",
    "x_for_regression = sm.add_constant(x_values)\n",
    "model = sm.OLS(y_values, x_for_regression).fit()\n",
    "a = model.params['const']\n",
    "b = model.params[x_title]\n",
    "print(f\"Уравнение регрессии: y = {a:.3f} + {b:.3f}*x\")\n",
    "print(f\"Коэффициент детерминации: {model.rsquared:.3f}\")\n",
    "print(f\"F-статистика: {model.fvalue:.3f}\")\n",
    "f_critical = stats.f.ppf(p_value, model.df_model, model.df_resid)\n",
    "print(f\"F-критическая: {f_critical:.3f}\")\n",
    "print(f\"Значимоть уравнения (F-тест): {model.fvalue > f_critical}\")\n",
    "print(\"t-статистики: \")\n",
    "t_a = model.tvalues['const']\n",
    "t_b = model.tvalues[x_title]\n",
    "t_critical = stats.t.ppf(p_value, len(to_choose) - 2)\n",
    "print(f\"    a: {t_a:.3f}\")\n",
    "print(f\"    b: {t_b:.3f}\")\n",
    "print(f\"    Критическая: {t_critical:.3f}\")\n",
    "print(\"Значимость коэффициентов (t-тест)\")\n",
    "print(f\"    a: {fabs(t_a) > fabs(t_critical)}\")\n",
    "print(f\"    b: {fabs(t_b) > fabs(t_critical)}\")\n",
    "print(f\"Средняя ошибка аппроксимации: {np.mean(np.abs(model.resid) / y_values) * 100:.3f}%\")\n",
    "print(f\"Средняя эластичность: {np.mean(b * x_values / model.fittedvalues):.3f}\")"
   ],
   "id": "789eedc17709d6b2",
   "outputs": [
    {
     "name": "stdout",
     "output_type": "stream",
     "text": [
      "Уравнение регрессии: y = -2.911 + 1.187*x\n",
      "Коэффициент детерминации: 0.962\n",
      "F-статистика: 7492.271\n",
      "F-критическая: 0.004\n",
      "Значимоть уравнения (F-тест): True\n",
      "t-статистики: \n",
      "    a: -16.569\n",
      "    b: 86.558\n",
      "    Критическая: -1.650\n",
      "Значимость коэффициентов (t-тест)\n",
      "    a: True\n",
      "    b: True\n",
      "Средняя ошибка аппроксимации: 11.786%\n",
      "Средняя эластичность: 1.309\n"
     ]
    }
   ],
   "execution_count": 114
  },
  {
   "metadata": {
    "ExecuteTime": {
     "end_time": "2025-10-23T17:57:47.149682Z",
     "start_time": "2025-10-23T17:57:47.107628Z"
    }
   },
   "cell_type": "code",
   "source": [
    "print(\"График регрессии\")\n",
    "plt.scatter(x_values, y_values, s=3)\n",
    "gr_x = np.linspace(0, 25, 400)\n",
    "gr_y = a + b * gr_x\n",
    "plt.plot(gr_x, gr_y, color='r')\n",
    "plt.show()"
   ],
   "id": "3eb4acbb64a4f424",
   "outputs": [
    {
     "name": "stdout",
     "output_type": "stream",
     "text": [
      "График регрессии\n"
     ]
    },
    {
     "data": {
      "text/plain": [
       "<Figure size 640x480 with 1 Axes>"
      ],
      "image/png": "[encoded data removed]"
     },
     "metadata": {},
     "output_type": "display_data",
     "jetTransient": {
      "display_id": null
     }
    }
   ],
   "execution_count": 115
  },
  {
   "metadata": {},
   "cell_type": "markdown",
   "source": [
    "Задание 5:\n",
    "\n",
    "Условия Гаусса-Маркова:\n",
    "1. $\\sum \\epsilon_i=0$\n",
    "2. $cov(\\epsilon_i, \\epsilon_{i-1}) = 0$\n",
    "3. $\\sigma^2_{\\epsilon} = const$\n",
    "4. $\\epsilon_i$ имеет нормальное распределение"
   ],
   "id": "7bc1249dfe4886dc"
  },
  {
   "metadata": {
    "ExecuteTime": {
     "end_time": "2025-10-23T17:57:47.214038Z",
     "start_time": "2025-10-23T17:57:47.177025Z"
    }
   },
   "cell_type": "code",
   "source": [
    "print(\"График остатков\")\n",
    "plt.scatter(x_values, model.resid, s=3)\n",
    "plt.show()"
   ],
   "id": "3e6d5ecf55a5cd7e",
   "outputs": [
    {
     "name": "stdout",
     "output_type": "stream",
     "text": [
      "График остатков\n"
     ]
    },
    {
     "data": {
      "text/plain": [
       "<Figure size 640x480 with 1 Axes>"
      ],
      "image/png": "[encoded data removed]"
     },
     "metadata": {},
     "output_type": "display_data",
     "jetTransient": {
      "display_id": null
     }
    }
   ],
   "execution_count": 116
  },
  {
   "metadata": {
    "ExecuteTime": {
     "end_time": "2025-10-23T18:03:41.721396Z",
     "start_time": "2025-10-23T18:03:41.700829Z"
    }
   },
   "cell_type": "code",
   "source": [
    "print(\"Проверка условий Гаусса-Маркова\")\n",
    "print(f\"    1. Cумма остатков {sum(model.resid)}\")\n",
    "print(f\"    2. Отсутствие автокорреляции (тест Бройша-Годфрея): {sm.stats.diagnostic.acorr_breusch_godfrey(model)[1] > p_value}\")\n",
    "print(\n",
    "    f\"    3. Отсутствие гетероскедастичности (тест Уайта): {sm.stats.diagnostic.het_white(model.resid, model.model.exog)[1] > p_value}\"\n",
    ")\n",
    "print(f\"    4. Нормальность остатков?: {stats.normaltest(model.resid).pvalue < p_value}\")"
   ],
   "id": "28e26ec84f558aea",
   "outputs": [
    {
     "name": "stdout",
     "output_type": "stream",
     "text": [
      "Проверка условий Гаусса-Маркова\n",
      "    1. Cумма остатков -1.0120793092482927e-12\n",
      "    2. Отсутствие автокорреляции (тест Бройша-Годфрея)?: False\n",
      "    3. Отсутствие гетероскедастичности (тест Уайта)?: False\n",
      "    4. Нормальность остатков?: True\n"
     ]
    }
   ],
   "execution_count": 122
  }
 ],
 "metadata": {
  "kernelspec": {
   "name": "python3",
   "language": "python",
   "display_name": "Python 3 (ipykernel)"
  }
 },
 "nbformat": 4,
 "nbformat_minor": 5
}
